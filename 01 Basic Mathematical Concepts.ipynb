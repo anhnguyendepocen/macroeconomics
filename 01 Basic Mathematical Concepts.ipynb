{
 "cells": [
  {
   "cell_type": "markdown",
   "metadata": {},
   "source": [
    "# 1. Mathematical Concepts\n",
    "\n",
    "## 1.1. Introduction\n",
    "\n",
    "### Importance to learn math\n",
    "\n",
    "As you will find it very soon, graduate-level macroeconomic modeling is full of mathematical concepts, expressions and equations. We will attach concrete economic interpretations to those (relatively) abstract things and assemble  them to build models to understand economic phenomena. \n",
    "\n",
    "Unless you already have or try to have good understanding of mathematics, you won't fully enjoy the materials in this course. That might require hard work but please get through it. I would like you to enjoy.\n",
    "\n",
    "After some work you will feel that mathematical concepts are as concrete as economic ones. (Yes, I agree that some economic concepts are very abstract.)\n",
    "\n",
    "### What I would recommend\n",
    "\n",
    "Please think this way: **We are not so smart that we cannot understand an abstract concept without making a concrete example.** This should be true for any abstract concepts in mathematics and economics.\n",
    "\n",
    "When you encounter a new concept, please follow this way:\n",
    "\n",
    "- Read the definition repeatedly.\n",
    "\n",
    "And then do at least one of the following.\n",
    "\n",
    "- Make an example.\n",
    "    - Rephrase it in daily words. (_Do not rely on daily words too much! Abstract concepts are abstract, with reason._)\n",
    "    - Calculate under specific function form and parameters. \n",
    "- Draw a diagram or graph.\n",
    "\n",
    "If the concept is related to mathematical equations or functions, try to do this also.\n",
    "\n",
    "- Try different function forms and parameters to observe what happens.\n",
    "\n",
    "When comparing graphs, hand-drawn graphs on hand-drawn axes may lead to misunderstanding. To achieve correctness, you do not have to have graph paper. (Though I believe that hand drawing plays an important role in cognitive process,) Some experience in programing would help. \n",
    "\n",
    "So, I add one more thing to the list.\n",
    "\n",
    "- Try to make a computer program to do the calculations or drawings. \n",
    "\n",
    "\n",
    "### What I will provide\n",
    "\n",
    "As the course progresses, I will provided [Jupyter notebooks](http://jupyter.org/). A Jupyter notebook is a browser-based documents with text, mathematics, programing codes and figures. They are easy to share and easy to modify the codes. One drawback is that you have to learn how to code Python\n",
    "\n",
    "\n",
    "That's what we are trying to do\n",
    "\n",
    "\n",
    "## What I would recommend"
   ]
  },
  {
   "cell_type": "code",
   "execution_count": null,
   "metadata": {
    "collapsed": true
   },
   "outputs": [],
   "source": []
  },
  {
   "cell_type": "markdown",
   "metadata": {},
   "source": [
    "# "
   ]
  }
 ],
 "metadata": {
  "kernelspec": {
   "display_name": "Python 3",
   "language": "python",
   "name": "python3"
  },
  "language_info": {
   "codemirror_mode": {
    "name": "ipython",
    "version": 3
   },
   "file_extension": ".py",
   "mimetype": "text/x-python",
   "name": "python",
   "nbconvert_exporter": "python",
   "pygments_lexer": "ipython3",
   "version": "3.5.1"
  }
 },
 "nbformat": 4,
 "nbformat_minor": 0
}
