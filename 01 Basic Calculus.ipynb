{
 "cells": [
  {
   "cell_type": "code",
   "execution_count": 1,
   "metadata": {
    "collapsed": false
   },
   "outputs": [],
   "source": [
    "%matplotlib inline"
   ]
  },
  {
   "cell_type": "markdown",
   "metadata": {},
   "source": [
    "# 1 Introduction to Mathematical Modeling\n",
    "\n",
    "## Importance to learn math\n",
    "\n",
    "As you will find it very soon, graduate-level macroeconomic modeling is full of mathematical concepts, expressions and equations. We will attach concrete economic interpretations to abstract mathematical things and assemble them to build a model to understand economic phenomenon. Unless you already have or try to have good understanding of mathematics, you won't fully enjoy the materials in this course. That might require hard work but please get through it. I would like you to enjoy.\n",
    "\n",
    "Why do we have to use mathematics in a study of macroeconomics? Aren't words and graphs enough? The answer to the latter is yes and no. If you are very careful and smart and have a talent for writing, you may not have to use mathematics to understand and explain complex, real world phenomena. Even so, you may want to use it to help other academics understand your theory, who may not be as careful, smart or patient. Research is about sharing knowledge. In (many fields of) economics, mathematics is considered an important medium of communication.\n",
    "\n",
    "By using a mathematical model, the analyst make it clear what he or she assumes, focuses on, and ignore. Mathematics allows him or her to make it clear where the limitation of the analysis lies. This feature ensures a smooth comunication between scholars and thus boosts the progress of academic knowledge. Words and graphs, on the other hand,  sometimes leave ambiguity. Some scholars are still trying to understand what economic giants in 18-19th centuries really meant.\n",
    "\n",
    "So, please put some effort in learning mathematics. After some work you will feel that mathematical concepts are as concrete as economic ones. I'm here to help."
   ]
  },
  {
   "cell_type": "markdown",
   "metadata": {},
   "source": [
    "## What I would recommend\n",
    "\n",
    "Please think this way: **We are not so smart that we cannot understand an abstract concept without making a concrete example.** This should be true for any abstract concepts in mathematics and economics.\n",
    "\n",
    "When you encounter a new concept, try the following.\n",
    "\n",
    "- Read the definition repeatedly, and then\n",
    "- make an example.\n",
    "    - Rephrase it in daily words. (<span style='color:red'>_Do not rely on daily words too much! Abstract concepts are abstract, with reason._</span>)\n",
    "    - Calculate under specific function form and parameters. \n",
    "- Draw a diagram or graph.\n",
    "\n",
    "If the concept is related to mathematical equations or functions, try to do this also.\n",
    "\n",
    "- Try different function forms and parameters to observe what happens.\n",
    "\n",
    "When comparing graphs, hand-drawn graphs on hand-drawn axes may lead to misunderstanding. To achieve correctness, you do not have to have graph paper. (Though I believe that hand drawing plays an important role in cognitive process.) Some experience in programing might help. \n",
    "\n",
    "So, I add one more thing to the list.\n",
    "\n",
    "- Make a computer program to do the calculations and/or drawings. \n",
    "\n"
   ]
  },
  {
   "cell_type": "markdown",
   "metadata": {},
   "source": [
    "## What I will provide\n",
    "\n",
    "As the course progresses, I will distribute [Jupyter notebooks](http://jupyter.org/) like this one. A Jupyter notebook is a browser-based documents with text, mathematics, programing codes and figures. They are easy to share codes with detailed explanations. You can easily modify the codes and run it on your own computer or via an online service called [binder](http://mybinder.org/). \n",
    "\n",
    "One aparent drawback is that you have to learn how to code in a specific programing language. In our situation, it is the Python 3 programing language. I believe that this is not a real obstacle because Python has relatively simple syntax and there are many online documents and large community of Python users who are willing to help anyone in trouble if asked politely and properly. \n",
    "\n",
    "As supplemantary materials for the macroeconomics course, use my Jupyter notebooks in the following ways: \n",
    "\n",
    "- read the documents, \n",
    "- try to understand what the codes do,\n",
    "- modify parameters or function forms, and \n",
    "- redraw figures to see what happens.\n",
    "\n",
    "Your understanding (of mathematics, programing and economics) will get solider and solider through many trials and errors. Don't be afraid of making errors.  \n",
    "\n",
    "If you want to install Python into your own computer, install Anaconda from [here](https://www.continuum.io/downloads); Anaconda is core Python bundled with many scientific libraries."
   ]
  },
  {
   "cell_type": "markdown",
   "metadata": {},
   "source": [
    "## 2. Python essentials\n",
    "\n",
    "Let's start with minimum requirements. The first thing you should know is how to communicate with me.\n",
    "\n",
    "### Hello world!"
   ]
  },
  {
   "cell_type": "code",
   "execution_count": 2,
   "metadata": {
    "collapsed": false
   },
   "outputs": [
    {
     "name": "stdout",
     "output_type": "stream",
     "text": [
      "Hello, world!\n"
     ]
    }
   ],
   "source": [
    "# Texts after \"#\" are for comments from the programer.\n",
    "# They are ignored by Python interpreter.\n",
    "\n",
    "print('Hello, world!')"
   ]
  },
  {
   "cell_type": "markdown",
   "metadata": {},
   "source": [
    "Gray boxes with \"In [1]\" on the left are Input cells. You can edit my codes and write your own in these boxes. The two lines are comments and they do nothing but leave message to another programer or the programer himself in the future. \n",
    "\n",
    "The last line prints 'Hello, world', which you see the message just below the box. If an input cell contains a function or procedure that outputs something, the final result would be present in the output box. Since In [1] contains no such procedure, no output box showed up. \n",
    "\n",
    "Compare In [1] with In [2] + Out[2]."
   ]
  },
  {
   "cell_type": "code",
   "execution_count": 3,
   "metadata": {
    "collapsed": false
   },
   "outputs": [
    {
     "data": {
      "text/plain": [
       "'Hello, world!'"
      ]
     },
     "execution_count": 3,
     "metadata": {},
     "output_type": "execute_result"
    }
   ],
   "source": [
    "'Hello, world!'"
   ]
  },
  {
   "cell_type": "markdown",
   "metadata": {},
   "source": [
    "### Arithmetic\n",
    "\n",
    "Python can be used as a very large culculator.\n",
    "\n",
    "Integers and decimal numbers are handled properly. (To be precise, the numbers that look like decimal numbers are called *floating point numbers*, which are finite precision binary approximation of real numbers approximated again to have decimal representations)"
   ]
  },
  {
   "cell_type": "code",
   "execution_count": 4,
   "metadata": {
    "collapsed": false
   },
   "outputs": [
    {
     "data": {
      "text/plain": [
       "4"
      ]
     },
     "execution_count": 4,
     "metadata": {},
     "output_type": "execute_result"
    }
   ],
   "source": [
    "1 + 3   # Addition"
   ]
  },
  {
   "cell_type": "code",
   "execution_count": 5,
   "metadata": {
    "collapsed": false
   },
   "outputs": [
    {
     "data": {
      "text/plain": [
       "-298.5"
      ]
     },
     "execution_count": 5,
     "metadata": {},
     "output_type": "execute_result"
    }
   ],
   "source": [
    "1.5 - 300  # Subtraction"
   ]
  },
  {
   "cell_type": "code",
   "execution_count": 6,
   "metadata": {
    "collapsed": false
   },
   "outputs": [
    {
     "data": {
      "text/plain": [
       "929070"
      ]
     },
     "execution_count": 6,
     "metadata": {},
     "output_type": "execute_result"
    }
   ],
   "source": [
    "999 * 930   # Multiplication"
   ]
  },
  {
   "cell_type": "code",
   "execution_count": 7,
   "metadata": {
    "collapsed": false
   },
   "outputs": [
    {
     "data": {
      "text/plain": [
       "66.66666666666667"
      ]
     },
     "execution_count": 7,
     "metadata": {},
     "output_type": "execute_result"
    }
   ],
   "source": [
    "200 / 3   # Division"
   ]
  },
  {
   "cell_type": "markdown",
   "metadata": {},
   "source": [
    "Do you remember that division by 0 is not defined? In Python, it raises an error called ZeroDivisionError. Let's try that. "
   ]
  },
  {
   "cell_type": "code",
   "execution_count": 8,
   "metadata": {
    "collapsed": false
   },
   "outputs": [
    {
     "ename": "ZeroDivisionError",
     "evalue": "division by zero",
     "output_type": "error",
     "traceback": [
      "\u001b[0;31m---------------------------------------------------------------------------\u001b[0m",
      "\u001b[0;31mZeroDivisionError\u001b[0m                         Traceback (most recent call last)",
      "\u001b[0;32m<ipython-input-8-3cdda6e9688d>\u001b[0m in \u001b[0;36m<module>\u001b[0;34m()\u001b[0m\n\u001b[0;32m----> 1\u001b[0;31m \u001b[0;36m200\u001b[0m \u001b[0;34m/\u001b[0m \u001b[0;36m0\u001b[0m   \u001b[0;31m# Division by 0\u001b[0m\u001b[0;34m\u001b[0m\u001b[0m\n\u001b[0m",
      "\u001b[0;31mZeroDivisionError\u001b[0m: division by zero"
     ]
    }
   ],
   "source": [
    "200 / 0   # Division by 0"
   ]
  },
  {
   "cell_type": "markdown",
   "metadata": {},
   "source": [
    "How do you feel about having an error? A bit nervous?\n",
    "\n",
    "Having error messages is not as bad as you might feel. Don't give up there. You have to read through all these error messages to be a better coder. We'll see more error messages in this notebook later. \n",
    "\n",
    "Really troublesome errors hide themselves in codes so well that no error messages pop out. Python doesn't complain about them because the codes are valid. It's just that the code doesn't work as you programers want it to. We'll see examples of such errors. Remember the following fact: **Zero error message doesn't  mean correctness.**\n",
    "\n",
    "For now let's do some more arithmetics."
   ]
  },
  {
   "cell_type": "code",
   "execution_count": 9,
   "metadata": {
    "collapsed": false
   },
   "outputs": [
    {
     "data": {
      "text/plain": [
       "256"
      ]
     },
     "execution_count": 9,
     "metadata": {},
     "output_type": "execute_result"
    }
   ],
   "source": [
    "2 ** 8   # Power"
   ]
  },
  {
   "cell_type": "code",
   "execution_count": 10,
   "metadata": {
    "collapsed": false
   },
   "outputs": [
    {
     "data": {
      "text/plain": [
       "1.7261929876417954"
      ]
     },
     "execution_count": 10,
     "metadata": {},
     "output_type": "execute_result"
    }
   ],
   "source": [
    "1.1 * (2.0**0.32) * (1.4**0.68)  # Cobb-Douglas"
   ]
  },
  {
   "cell_type": "markdown",
   "metadata": {},
   "source": [
    "### Variables\n",
    "\n",
    "We will use many variables to represent for economic indicators, consumers' preference, firms' technology, and government's activity. Bulding a model is to determine the relationship between the variables. In macroeconomics, $Y$ usually denotes GDP, or aggregate income, $C$ aggregate consumption, $I$ investment. In a model economy without a government or international trade, it always hold that\n",
    "\n",
    "\\begin{align}\n",
    "Y = C + I.\n",
    "\\end{align}\n",
    "\n",
    "Can you explain why? Let's assume $C = 300$ and $I = 100$. By the above identity we know that $Y = C + I$, i.e., $Y = 400$.\n",
    "\n",
    "Using variables in Python is very easy."
   ]
  },
  {
   "cell_type": "code",
   "execution_count": 11,
   "metadata": {
    "collapsed": true
   },
   "outputs": [],
   "source": [
    "C = 300\n",
    "I = 100\n",
    "Y = C + I"
   ]
  },
  {
   "cell_type": "markdown",
   "metadata": {},
   "source": [
    "N.B. Here, `C = 300`, for example, means that **You have number 300. We label this number (300) with C**. You can use the value 300 with readably named variable, i.e., C. Conventionally, this might be called variable assignment, but you *don't* assign value 300 to a variable `C` in Python.\n",
    "\n",
    "Anyway, you have right numbers with good names."
   ]
  },
  {
   "cell_type": "code",
   "execution_count": 12,
   "metadata": {
    "collapsed": false
   },
   "outputs": [
    {
     "data": {
      "text/plain": [
       "300"
      ]
     },
     "execution_count": 12,
     "metadata": {},
     "output_type": "execute_result"
    }
   ],
   "source": [
    "C"
   ]
  },
  {
   "cell_type": "code",
   "execution_count": 13,
   "metadata": {
    "collapsed": false
   },
   "outputs": [
    {
     "data": {
      "text/plain": [
       "100"
      ]
     },
     "execution_count": 13,
     "metadata": {},
     "output_type": "execute_result"
    }
   ],
   "source": [
    "I"
   ]
  },
  {
   "cell_type": "code",
   "execution_count": 14,
   "metadata": {
    "collapsed": false
   },
   "outputs": [
    {
     "data": {
      "text/plain": [
       "400"
      ]
     },
     "execution_count": 14,
     "metadata": {},
     "output_type": "execute_result"
    }
   ],
   "source": [
    "Y"
   ]
  },
  {
   "cell_type": "markdown",
   "metadata": {},
   "source": [
    "In mathematics, asigning value to a variable and identity relation both use the symbol `=`. In Python, for asignment, use `=` as seen above and for identity, or **check of identity**, use `==`."
   ]
  },
  {
   "cell_type": "code",
   "execution_count": 15,
   "metadata": {
    "collapsed": false
   },
   "outputs": [
    {
     "data": {
      "text/plain": [
       "True"
      ]
     },
     "execution_count": 15,
     "metadata": {},
     "output_type": "execute_result"
    }
   ],
   "source": [
    "Y == C + I"
   ]
  },
  {
   "cell_type": "code",
   "execution_count": 16,
   "metadata": {
    "collapsed": false
   },
   "outputs": [
    {
     "data": {
      "text/plain": [
       "False"
      ]
     },
     "execution_count": 16,
     "metadata": {},
     "output_type": "execute_result"
    }
   ],
   "source": [
    "Y == C"
   ]
  },
  {
   "cell_type": "markdown",
   "metadata": {},
   "source": [
    "`True` and `False` are answers to true-or-false questions. For example, \n",
    "\n",
    "- `1 < 2` is `True`, \n",
    "- `2 > 3` is `False`, \n",
    "- `2 <= 3` is `True`,\n",
    "- `1 > 2 > 3` is `False`"
   ]
  },
  {
   "cell_type": "code",
   "execution_count": 17,
   "metadata": {
    "collapsed": false
   },
   "outputs": [
    {
     "data": {
      "text/plain": [
       "False"
      ]
     },
     "execution_count": 17,
     "metadata": {},
     "output_type": "execute_result"
    }
   ],
   "source": [
    "# Try the propositions listed above and make your own examples\n",
    "\n",
    "1 > 2 > 3"
   ]
  },
  {
   "cell_type": "markdown",
   "metadata": {
    "collapsed": true
   },
   "source": [
    "### Functions\n",
    "\n",
    "Simple arithmetic aren't enough for economics. We need functions like $\\ln c$ or $e^{\\rho t}$. Let's see how to use such functions. One of Python's standard libraries does that job. When using standard or third-party libraries, use `import` statement as below."
   ]
  },
  {
   "cell_type": "code",
   "execution_count": 18,
   "metadata": {
    "collapsed": true
   },
   "outputs": [],
   "source": [
    "import math"
   ]
  },
  {
   "cell_type": "markdown",
   "metadata": {},
   "source": [
    "`math` standard library contains many standard mathematical functions and constants."
   ]
  },
  {
   "cell_type": "code",
   "execution_count": 19,
   "metadata": {
    "collapsed": false
   },
   "outputs": [
    {
     "data": {
      "text/plain": [
       "0.0"
      ]
     },
     "execution_count": 19,
     "metadata": {},
     "output_type": "execute_result"
    }
   ],
   "source": [
    "math.log(1.0)   # ln(1.0)"
   ]
  },
  {
   "cell_type": "code",
   "execution_count": 20,
   "metadata": {
    "collapsed": false
   },
   "outputs": [
    {
     "data": {
      "text/plain": [
       "0.6931471805599453"
      ]
     },
     "execution_count": 20,
     "metadata": {},
     "output_type": "execute_result"
    }
   ],
   "source": [
    "math.log(2.0)   # ln(2.0)"
   ]
  },
  {
   "cell_type": "code",
   "execution_count": 21,
   "metadata": {
    "collapsed": false
   },
   "outputs": [
    {
     "data": {
      "text/plain": [
       "2.718281828459045"
      ]
     },
     "execution_count": 21,
     "metadata": {},
     "output_type": "execute_result"
    }
   ],
   "source": [
    "math.exp(1.0)"
   ]
  },
  {
   "cell_type": "code",
   "execution_count": 22,
   "metadata": {
    "collapsed": false
   },
   "outputs": [
    {
     "data": {
      "text/plain": [
       "3.141592653589793"
      ]
     },
     "execution_count": 22,
     "metadata": {},
     "output_type": "execute_result"
    }
   ],
   "source": [
    "math.pi"
   ]
  },
  {
   "cell_type": "code",
   "execution_count": 23,
   "metadata": {
    "collapsed": false
   },
   "outputs": [
    {
     "data": {
      "text/plain": [
       "2.718281828459045"
      ]
     },
     "execution_count": 23,
     "metadata": {},
     "output_type": "execute_result"
    }
   ],
   "source": [
    "math.e"
   ]
  },
  {
   "cell_type": "markdown",
   "metadata": {},
   "source": [
    "Of course, you can use a variable for the parameter."
   ]
  },
  {
   "cell_type": "code",
   "execution_count": 24,
   "metadata": {
    "collapsed": false
   },
   "outputs": [
    {
     "data": {
      "text/plain": [
       "0.1823215567939546"
      ]
     },
     "execution_count": 24,
     "metadata": {},
     "output_type": "execute_result"
    }
   ],
   "source": [
    "x = 1.2\n",
    "math.log(x)"
   ]
  },
  {
   "cell_type": "markdown",
   "metadata": {},
   "source": [
    "If you prefer concise code, you can import specific functions from the library."
   ]
  },
  {
   "cell_type": "code",
   "execution_count": 25,
   "metadata": {
    "collapsed": false
   },
   "outputs": [],
   "source": [
    "from math import log, exp"
   ]
  },
  {
   "cell_type": "code",
   "execution_count": 26,
   "metadata": {
    "collapsed": false
   },
   "outputs": [
    {
     "data": {
      "text/plain": [
       "2.302585092994046"
      ]
     },
     "execution_count": 26,
     "metadata": {},
     "output_type": "execute_result"
    }
   ],
   "source": [
    "log(10)"
   ]
  },
  {
   "cell_type": "code",
   "execution_count": 27,
   "metadata": {
    "collapsed": false
   },
   "outputs": [
    {
     "data": {
      "text/plain": [
       "22026.465794806718"
      ]
     },
     "execution_count": 27,
     "metadata": {},
     "output_type": "execute_result"
    }
   ],
   "source": [
    "exp(10)"
   ]
  },
  {
   "cell_type": "markdown",
   "metadata": {},
   "source": [
    "### Loops and Lists\n",
    "\n",
    "You use loop when repeating something similar. It is fundamental in any programing languages. In Python like other languages, the most basic looping toos are `for` and `while`. Python has a standard counter, `range`, used with `for`; the combination of `for` and `range` makes Python a bit different from other languages. Let's see how they work."
   ]
  },
  {
   "cell_type": "code",
   "execution_count": 28,
   "metadata": {
    "collapsed": false
   },
   "outputs": [
    {
     "name": "stdout",
     "output_type": "stream",
     "text": [
      "0\n",
      "1\n",
      "2\n",
      "3\n",
      "4\n"
     ]
    }
   ],
   "source": [
    "for i in range(5):\n",
    "    print(i)"
   ]
  },
  {
   "cell_type": "code",
   "execution_count": 29,
   "metadata": {
    "collapsed": false
   },
   "outputs": [
    {
     "name": "stdout",
     "output_type": "stream",
     "text": [
      "0.0\n",
      "0.1\n",
      "0.2\n",
      "0.3\n"
     ]
    }
   ],
   "source": [
    "for t in range(4):\n",
    "    print(t / 10)"
   ]
  },
  {
   "cell_type": "code",
   "execution_count": 30,
   "metadata": {
    "collapsed": false
   },
   "outputs": [
    {
     "name": "stdout",
     "output_type": "stream",
     "text": [
      "-2\n",
      "0\n",
      "2\n",
      "4\n"
     ]
    }
   ],
   "source": [
    "for s in range(-1, 3):\n",
    "    print(s * 2)\n",
    "    s = s + 1"
   ]
  },
  {
   "cell_type": "markdown",
   "metadata": {},
   "source": [
    "Did you see how it works? `range(a, b)` corresponds to a sequence\n",
    "\n",
    "    a, a+1, a+2, ... , b-2, b-1\n",
    "    \n",
    "`for` scans through the sequence one by one, setting each number to the variable between `for` and `in` (`i` for the first, `t` for the second and `s` for the last. You can choose any valid name.) \n",
    "\n",
    "So, in the above cases, `for` loops are commands to repeat these for each number in range(a, b)\". Where do the commands start and end? \n",
    "\n",
    "You see a colon (:) at the last of a `for` line. This delimiter means the start of the command. Lines after that line start with (typically) four white spaces. These indentations specify that they are the content of the command. It doesn't have to be four spaces indentation, but it should be consistent. Let's see a bad code with inconsistent indentation."
   ]
  },
  {
   "cell_type": "code",
   "execution_count": 31,
   "metadata": {
    "collapsed": false
   },
   "outputs": [
    {
     "ename": "IndentationError",
     "evalue": "unexpected indent (<ipython-input-31-21f613aba085>, line 3)",
     "output_type": "error",
     "traceback": [
      "\u001b[0;36m  File \u001b[0;32m\"<ipython-input-31-21f613aba085>\"\u001b[0;36m, line \u001b[0;32m3\u001b[0m\n\u001b[0;31m    print(i)\u001b[0m\n\u001b[0m    ^\u001b[0m\n\u001b[0;31mIndentationError\u001b[0m\u001b[0;31m:\u001b[0m unexpected indent\n"
     ]
    }
   ],
   "source": [
    "for i in range(3):\n",
    "    print(i)\n",
    "     print(i)"
   ]
  },
  {
   "cell_type": "markdown",
   "metadata": {},
   "source": [
    "What happens if we forget the colon?"
   ]
  },
  {
   "cell_type": "code",
   "execution_count": 32,
   "metadata": {
    "collapsed": false
   },
   "outputs": [
    {
     "ename": "SyntaxError",
     "evalue": "invalid syntax (<ipython-input-32-a93b8e90b166>, line 1)",
     "output_type": "error",
     "traceback": [
      "\u001b[0;36m  File \u001b[0;32m\"<ipython-input-32-a93b8e90b166>\"\u001b[0;36m, line \u001b[0;32m1\u001b[0m\n\u001b[0;31m    for i in range(3)\u001b[0m\n\u001b[0m                     ^\u001b[0m\n\u001b[0;31mSyntaxError\u001b[0m\u001b[0;31m:\u001b[0m invalid syntax\n"
     ]
    }
   ],
   "source": [
    "for i in range(3)\n",
    "    print(i)"
   ]
  },
  {
   "cell_type": "markdown",
   "metadata": {},
   "source": [
    "Now you know `IndentationError` and `SyntaxError`. \n",
    "\n",
    "End of indentation means the end of the repeated command."
   ]
  },
  {
   "cell_type": "code",
   "execution_count": 33,
   "metadata": {
    "collapsed": false
   },
   "outputs": [
    {
     "name": "stdout",
     "output_type": "stream",
     "text": [
      "Hello\n",
      "Hello\n",
      "Hello\n",
      "Bye\n"
     ]
    }
   ],
   "source": [
    "for i in range(3):\n",
    "    print('Hello')\n",
    "print('Bye')"
   ]
  },
  {
   "cell_type": "markdown",
   "metadata": {},
   "source": [
    "By using a data structure called `list`, you can be more specific about what numbers to scan. See the following example."
   ]
  },
  {
   "cell_type": "code",
   "execution_count": 34,
   "metadata": {
    "collapsed": false
   },
   "outputs": [
    {
     "name": "stdout",
     "output_type": "stream",
     "text": [
      "8.0\n",
      "3.1\n",
      "1.2\n"
     ]
    }
   ],
   "source": [
    "for i in [8.0, 3.1, 1.2]:\n",
    "    print(i)"
   ]
  },
  {
   "cell_type": "markdown",
   "metadata": {},
   "source": [
    "This example is very simple but you can probably see the working of `for` and `list` clearly. The `list` data structure is a sequence of numbers (or any other types), which are enclosed by `[` and `]` and delimited by commas. \n",
    "\n",
    "`for` loop goes through the list after the `in`. Actually, `range(a, b)` and `range(b)` (the latter is equivalent to `range(0, b)`) are structures similar to the list and thus can be converted to lists. See the following code."
   ]
  },
  {
   "cell_type": "code",
   "execution_count": 35,
   "metadata": {
    "collapsed": false
   },
   "outputs": [
    {
     "data": {
      "text/plain": [
       "[1, 2, 3, 4, 5]"
      ]
     },
     "execution_count": 35,
     "metadata": {},
     "output_type": "execute_result"
    }
   ],
   "source": [
    "list(range(1, 6))"
   ]
  },
  {
   "cell_type": "markdown",
   "metadata": {},
   "source": [
    "### List comprehension\n",
    "\n",
    "Let's review an example shown above."
   ]
  },
  {
   "cell_type": "code",
   "execution_count": 36,
   "metadata": {
    "collapsed": false
   },
   "outputs": [
    {
     "name": "stdout",
     "output_type": "stream",
     "text": [
      "0.0\n",
      "0.1\n",
      "0.2\n",
      "0.3\n"
     ]
    }
   ],
   "source": [
    "for t in range(4):\n",
    "    print(t / 10)"
   ]
  },
  {
   "cell_type": "markdown",
   "metadata": {},
   "source": [
    "Do you see this is like making another sequence of numbers by using a for loop? How can you actually make a list instead of printing?\n",
    "\n",
    "One obvious way to do is\n",
    "\n",
    "- Make an empty list and\n",
    "- Add one by one using a `for` loop.\n",
    "\n",
    "See an example below."
   ]
  },
  {
   "cell_type": "code",
   "execution_count": 37,
   "metadata": {
    "collapsed": false
   },
   "outputs": [
    {
     "data": {
      "text/plain": [
       "[0.0, 0.1, 0.2, 0.3]"
      ]
     },
     "execution_count": 37,
     "metadata": {},
     "output_type": "execute_result"
    }
   ],
   "source": [
    "out = []   # Empty list\n",
    "for t in range(4):      # For loop\n",
    "    out.append(t / 10)  # Add one result\n",
    "    \n",
    "out"
   ]
  },
  {
   "cell_type": "markdown",
   "metadata": {},
   "source": [
    "There is another way to create a list. The following code is cleaner and considered better."
   ]
  },
  {
   "cell_type": "code",
   "execution_count": 38,
   "metadata": {
    "collapsed": false
   },
   "outputs": [
    {
     "data": {
      "text/plain": [
       "[0.0, 0.1, 0.2, 0.3]"
      ]
     },
     "execution_count": 38,
     "metadata": {},
     "output_type": "execute_result"
    }
   ],
   "source": [
    "out = [t / 10 for t in range(4)]\n",
    "out"
   ]
  },
  {
   "cell_type": "markdown",
   "metadata": {},
   "source": [
    "When you encounter this kind of code snippet (called, list comprehension) and don't understand what it does, convert it to a normal `for` loop. After some training you'll be able to write cleaner elegant codes."
   ]
  },
  {
   "cell_type": "markdown",
   "metadata": {},
   "source": [
    "### Plotting\n",
    "\n",
    "You have a function calculator in your computer. You know how to handle many values (`for` and `list`). Now the time to plot those functions.\n",
    "\n",
    "You will use, matplotlib library to plot functions. Remember the following idiomatic sentense."
   ]
  },
  {
   "cell_type": "code",
   "execution_count": 39,
   "metadata": {
    "collapsed": true
   },
   "outputs": [],
   "source": [
    "import matplotlib.pyplot as plt"
   ]
  },
  {
   "cell_type": "markdown",
   "metadata": {},
   "source": [
    "Let's suppose we'd like to plot $y = e^x$ from $x \\ge 0$. Python's matplotlib library doesn't have a friendly interface that would look like\n",
    "\n",
    "    plot(exp(x), x >= 0)\n",
    "    \n",
    "We have to determine for which values of $x$ we calculate $e^x$. "
   ]
  },
  {
   "cell_type": "code",
   "execution_count": 40,
   "metadata": {
    "collapsed": false
   },
   "outputs": [
    {
     "data": {
      "text/plain": [
       "[<matplotlib.lines.Line2D at 0x105de6208>]"
      ]
     },
     "execution_count": 40,
     "metadata": {},
     "output_type": "execute_result"
    },
    {
     "data": {
      "image/png": "[encoded data removed]",
      "text/plain": [
       "<matplotlib.figure.Figure at 0x105d7f978>"
      ]
     },
     "metadata": {},
     "output_type": "display_data"
    }
   ],
   "source": [
    "x0, x1 = 0, 10      # min and max values of the x-axis\n",
    "n = 200             # number of plots - 1\n",
    "dx = (x1 - x0) / n  # space between adjoining points\n",
    "\n",
    "x = [x0 + i * dx for i in range(n+1)]  # sampled x-values\n",
    "y = [math.exp(_x) for _x in x]         # sampled y-values \n",
    "\n",
    "plt.plot(x, y)"
   ]
  },
  {
   "cell_type": "markdown",
   "metadata": {},
   "source": [
    "## 3. Growth rate and infinitely frequent compounding\n",
    "\n",
    "In macroeconomics, especially in growth theory, you'll encounter many examples of differential equations and difference equations. You don't have to solve all those equations to understand the behavior of a growth model but you at least have to understand the intuition behind the equation. You can understand many growth equations by an analogy of compound interest.\n",
    "\n",
    "Let $F(t)$ be a function of time $t$, the graph of which we'll see very soon. Typically, $0 \\le t < \\infty$. $t = 0$ is the begining of our analysis. The most important (and simplest) equation in the growth theory is the following **growth equation** \n",
    "\n",
    "\\begin{align}\n",
    "  \\dot F (t) = g F(t)\n",
    "\\end{align}\n",
    "\n",
    "where $g$ is called the growth rate. **Let's fully digest this equation!**\n",
    "\n",
    "Descriptions of some models begins with this type of differential equations, not the functional form of $F$. Why is that? Because the growth equation shows underlying economic activity more clearly than solved $F(t) = e^{gt} F(0)$.\n",
    "\n",
    "To see the point, let's look at the discrete-time approximation of the differential equation. The definition of time-derivative is:\n",
    "\n",
    "\\begin{align}\n",
    "  \\dot F (t) = \\frac{dF}{dt}(t) = \\lim_{\\Delta t \\to 0} \\frac{F(t+\\Delta t) - F(t)}{\\Delta t}\n",
    "\\end{align}\n",
    "\n",
    "Approximating $\\dot F(t)$ by the right-most expression with a small (but not infinitesimally so) $\\Delta t$, we have\n",
    "\n",
    "\\begin{align}\n",
    "  \\dot F (t) \\simeq \\frac{F(t+\\Delta t) - F(t)}{\\Delta t}.\n",
    "\\end{align}\n",
    "\n",
    "\n",
    "By plugging this approximation into the growth equation, we have\n",
    "\n",
    "\\begin{align}\n",
    "  \\frac{F(t+\\Delta t) - F(t)}{\\Delta t} \\simeq g F(t)\n",
    "\\end{align}\n",
    "\n",
    "or equivalently\n",
    "\n",
    "\\begin{align}\n",
    "  F(t+\\Delta t) \\simeq (1 + g \\Delta t) F(t).\n",
    "\\end{align}\n",
    "\n",
    "\n",
    "\n",
    "<div style='color:red; margin-top:1em'>This means that, in a short period of time $[t, t+\\Delta t]$, there is an economic activity that increases the current level of economic variable, $F(t)$, by a factor of $(1 + g \\Delta t)$. The coefficient, $g$, is the [nominal](https://en.wikipedia.org/wiki/Nominal_interest_rate#Nominal_versus_effective_interest_rate) growth rate. </div>\n",
    "\n",
    "\n",
    "If the unit of time is one year, $g$ is the **annual growth rate** of $F$. Let $n$ denote the number of compounding (i.e., $n=12$ for monthly compounding, $n=365$ for daily compounding). We observe that $\\Delta t = 1/n$ and \n",
    "\n",
    "\\begin{align}\n",
    "  F(t+1) \n",
    "  \\simeq \\left(1 + g\\Delta t \\right)^n F(t)\n",
    "  = \\left(1 + \\frac{g}{n} \\right)^n F(t), \n",
    "\\end{align}\n",
    "\n",
    "which states that, in our approximation, the **(gross) effective annual growth rate** is $(1 + \\frac{g}{n})^n$.\n",
    "\n",
    "Let's draw a graph here."
   ]
  },
  {
   "cell_type": "code",
   "execution_count": 41,
   "metadata": {
    "collapsed": false
   },
   "outputs": [
    {
     "data": {
      "text/plain": [
       "<matplotlib.text.Text at 0x105d94e48>"
      ]
     },
     "execution_count": 41,
     "metadata": {},
     "output_type": "execute_result"
    },
    {
     "data": {
      "image/png": "[encoded data removed]",
      "text/plain": [
       "<matplotlib.figure.Figure at 0x105de6c88>"
      ]
     },
     "metadata": {},
     "output_type": "display_data"
    }
   ],
   "source": [
    "g = 1.1                             # Annual growth rate\n",
    "N = [i * 10 for i in range(1, 50)]  # number of compounding\n",
    "ear = [(1 + g/n)**n for n in N]     # effective annual rates for each n in N\n",
    "\n",
    "fig, ax = plt.subplots(1,1)     # better way to make a plot\n",
    "ax.plot(N, ear)\n",
    "\n",
    "ax.set_xlabel('N')\n",
    "ax.set_ylabel('$(1+g/n)^n$', fontsize=15)"
   ]
  },
  {
   "cell_type": "markdown",
   "metadata": {
    "collapsed": true
   },
   "source": [
    "The graph seems to converge to some value as $n \\to \\infty$ or $\\Delta t \\to 0$. To calculate the limit, you have to recall the following formula. \n",
    "\n",
    "\\begin{align}\n",
    "  \\lim_{x \\to \\infty} \\left(1 + \\frac{x}{n} \\right)^n = e^x.\n",
    "\\end{align}\n",
    "\n",
    "Let's redraw the figure but this time with additional horizontal line at\n",
    "\n",
    "\\begin{align}\n",
    "  y = \\lim_{n \\to \\infty} \\left(1 + \\frac{g}{n} \\right)^n = e^g\n",
    "\\end{align}\n",
    "\n",
    "to see the identity."
   ]
  },
  {
   "cell_type": "code",
   "execution_count": 42,
   "metadata": {
    "collapsed": false
   },
   "outputs": [
    {
     "data": {
      "text/plain": [
       "<matplotlib.text.Text at 0x106104ba8>"
      ]
     },
     "execution_count": 42,
     "metadata": {},
     "output_type": "execute_result"
    },
    {
     "data": {
      "image/png": "[encoded data removed]",
      "text/plain": [
       "<matplotlib.figure.Figure at 0x105f57c18>"
      ]
     },
     "metadata": {},
     "output_type": "display_data"
    }
   ],
   "source": [
    "fig, ax = plt.subplots(1,1)\n",
    "ax.plot(N, ear)\n",
    "ax.axhline(math.exp(g), color='black', linestyle='dashed')  # dashed horizontal line\n",
    "\n",
    "ax.set_xlabel('N')\n",
    "ax.set_ylabel('$(1+g/n)^n$', fontsize=15)"
   ]
  },
  {
   "cell_type": "markdown",
   "metadata": {},
   "source": [
    "In a typical situation, $F(0)$ is a known initial condition. By the above calculation, we have obtained \n",
    "\n",
    "\\begin{align}\n",
    "    F(1) &= e^g F(0)\\\\\n",
    "    F(2) &= e^g F(1) = e^{2g} F(0) \\\\\n",
    "    F(3) &= e^g F(2) = \\cdots = e^{3g} F(0) \\\\\n",
    "         &\\vdots \n",
    "\\end{align}"
   ]
  },
  {
   "cell_type": "markdown",
   "metadata": {},
   "source": [
    "More generally, we can show\n",
    "\n",
    "\\begin{align}\n",
    "    F(t) = e^{gt} F(0),\\qquad t \\ge 0.\n",
    "\\end{align}\n",
    "\n",
    "How do you know that? Let's go back to the approximation formula:\n",
    "\n",
    "\\begin{align}\n",
    "  F(t+\\Delta t) \\simeq (1 + g \\Delta t) F(t).\n",
    "\\end{align}\n",
    "\n",
    "Let $m$ be the number of partitions of the interval $[0, t]$ and thus $\\Delta t = t / m$.\n",
    "\n",
    "\\begin{align}\n",
    "  F(t) &\\simeq \\left(\n",
    "              1 + g \\Delta t\n",
    "         \\right)^m F(0) \\\\\n",
    "       &= \\left(\n",
    "               1 + \\frac{gt}{m}\n",
    "       \\right)^m F(0)\n",
    "\\end{align}\n",
    "\n",
    "### Graph of $F(t)$\n",
    "\n",
    "Let's draw another graph to compare $(1 + gt / m)^m$ among different choices of $m$. And we compare them with real $F(t)$."
   ]
  },
  {
   "cell_type": "code",
   "execution_count": 43,
   "metadata": {
    "collapsed": false
   },
   "outputs": [
    {
     "data": {
      "text/plain": [
       "<matplotlib.text.Text at 0x106104668>"
      ]
     },
     "execution_count": 43,
     "metadata": {},
     "output_type": "execute_result"
    },
    {
     "data": {
      "image/png": "[encoded data removed]",
      "text/plain": [
       "<matplotlib.figure.Figure at 0x105f08668>"
      ]
     },
     "metadata": {},
     "output_type": "display_data"
    }
   ],
   "source": [
    "t = 3.0\n",
    "g = 1.1\n",
    "ms = [10, 20, 150]   # choice of m\n",
    "\n",
    "fig, ax = plt.subplots(1,1)\n",
    "\n",
    "# Approximated F(t)\n",
    "for m in ms:\n",
    "    dt = t / m\n",
    "    ts = [dt * i for i in range(m + 1)]\n",
    "    ys = [(1 + g*dt)**i for i in range(m + 1)]\n",
    "    ax.plot(ts, ys, label='$m={}$'.format(m))\n",
    "\n",
    "# Correct F(t), Use m = 100 for plotting exp(gt)\n",
    "exp_gt = [math.exp(g * dt * i) for i in range(m + 1)]\n",
    "ax.plot(ts, exp_gt, label='$m=\\infty$', color='black') # exp(gt)\n",
    "\n",
    "ax.legend(loc='upper left')\n",
    "ax.set_xlabel('$\\\\tau$', fontsize=15)\n",
    "ax.set_ylabel('$\\\\exp (g \\\\tau) \\simeq (1 + gt/m)^m$', fontsize=15)"
   ]
  },
  {
   "cell_type": "markdown",
   "metadata": {},
   "source": [
    "### Economic activities behind the growing graph\n",
    "\n",
    "We will often use differential equations to model economic activities. Since the goal of macroeconomics is to understand  the determinants of growth, \n",
    "\n",
    " Such a graph is an implication of the fact that, at each point in time, there is a certain activity that gives the economy a push. \n",
    "\n",
    "The below graph shows the growth of GDP of the USA, which was taken from [FRED](https://research.stlouisfed.org/fred2/). It looks like the graph of $exp(gt)$ shown above or its discrete time approximations.\n"
   ]
  },
  {
   "cell_type": "markdown",
   "metadata": {},
   "source": [
    "![FRED](https://research.stlouisfed.org/fred2/graph/fredgraph.png?g=3BAf)\n"
   ]
  },
  {
   "cell_type": "markdown",
   "metadata": {},
   "source": [
    "We know the historical data shows the exponential growth. However, what we want to understand is why such exponential growth happened in the first place and what determines the speed of growth, etc. So, it's pretty natural to begin with a model similar to \n",
    "\n",
    "\n",
    "\\begin{align}\n",
    "  F(t+\\Delta t) \\simeq (1 + g \\Delta t) F(t),\n",
    "\\end{align}\n",
    "\n",
    "which means at each point in time there is a certain (not specified yet) force that pushes up the economy by a factor of $(1 + g\\Delta t)$. The continuous analog of such model is \n",
    "\n",
    "\\begin{align}\n",
    "  \\dot F (t) = g F(t),\n",
    "\\end{align}\n",
    "\n",
    "which I hope you have become familiar with.\n",
    "\n",
    "<span style='color:red'>Our short-term goal, therefore, is to understand what determines $g$.</span>"
   ]
  },
  {
   "cell_type": "markdown",
   "metadata": {},
   "source": [
    "### Why use continuous time models?\n",
    "\n",
    "Continuous time models involve infinitely frequent compounding as shown above. It seems unrealistic. No economic activity can happen instantaneously (except for trading in such markets as a private equity secondary market). \n",
    "\n",
    "Still we often use continuous time models because they are useful. Their solutions are often very clean. In discrete time models, in contrast, we usually have messy solutions or worse you don't have a closed form solution at all. To obtain an economic intuition behind mathematical models, clean solutions have big advantages. In some sense, continuous-time models are approximation to discrete-time models. "
   ]
  }
 ],
 "metadata": {
  "kernelspec": {
   "display_name": "Python 3",
   "language": "python",
   "name": "python3"
  },
  "language_info": {
   "codemirror_mode": {
    "name": "ipython",
    "version": 3
   },
   "file_extension": ".py",
   "mimetype": "text/x-python",
   "name": "python",
   "nbconvert_exporter": "python",
   "pygments_lexer": "ipython3",
   "version": "3.5.1"
  }
 },
 "nbformat": 4,
 "nbformat_minor": 0
}
