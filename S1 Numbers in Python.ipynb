{
 "cells": [
  {
   "cell_type": "markdown",
   "metadata": {},
   "source": [
    "# S.1 Numbers in Python\n",
    "\n",
    "If you are students in Accounting, you should notice that floating point numbers are not reliable for keeping books. \n",
    "The simple code below would suffice to know the point."
   ]
  },
  {
   "cell_type": "code",
   "execution_count": 5,
   "metadata": {
    "collapsed": false
   },
   "outputs": [
    {
     "data": {
      "text/plain": [
       "0.9999999999999999"
      ]
     },
     "execution_count": 5,
     "metadata": {},
     "output_type": "execute_result"
    }
   ],
   "source": [
    "s = 0\n",
    "for i in range(10):\n",
    "    s += 0.1\n",
    "s"
   ]
  },
  {
   "cell_type": "markdown",
   "metadata": {},
   "source": [
    "The code does the following. \n",
    "\n",
    "- Set `s` to be zero.\n",
    "- Repeat following for 10 times\n",
    "  - reset `s` with old value of `s` plus 0.1\n",
    "- Show s\n",
    "\n",
    "You might have expected that the result was 1.0. But the output is different. \n",
    "\n",
    "When computers store a decimal numbers such as 0.1, it converts the number to have binary represenation. While all  integers have exact binary represenations, not all decimal numbers does. It's safe to understand all the decimal-looking numbers are approximations. In macroeconomic simulations, it doesn't give you much trouble.\n",
    "\n",
    "This would cause, however, a fatal problem in some situation. Imagine a situation where I have paid you 0.1 billion Yen per year, for ten years. Your ledger is coded using float numbers. It records your 0.9999999999999999 billion receipt. Would you be angry as a creditor since I faild to pay you enough? Would you foreclose on my mortgage?\n",
    "\n",
    "Chances are, programers in your company's engineering section would be fired for making a troublesome ledger. How would you avoid that misery?\n",
    "\n",
    "Use `Decimal` when true decimal numbers are required. Otherwise, float is fine."
   ]
  },
  {
   "cell_type": "code",
   "execution_count": 11,
   "metadata": {
    "collapsed": false
   },
   "outputs": [
    {
     "data": {
      "text/plain": [
       "Decimal('1.0')"
      ]
     },
     "execution_count": 11,
     "metadata": {},
     "output_type": "execute_result"
    }
   ],
   "source": [
    "import decimal\n",
    "\n",
    "d = decimal.Decimal('0.1')\n",
    "s = 0\n",
    "for i in range(10):\n",
    "    s += d\n",
    "s"
   ]
  }
 ],
 "metadata": {
  "kernelspec": {
   "display_name": "Python 3",
   "language": "python",
   "name": "python3"
  },
  "language_info": {
   "codemirror_mode": {
    "name": "ipython",
    "version": 3
   },
   "file_extension": ".py",
   "mimetype": "text/x-python",
   "name": "python",
   "nbconvert_exporter": "python",
   "pygments_lexer": "ipython3",
   "version": "3.5.1"
  }
 },
 "nbformat": 4,
 "nbformat_minor": 0
}
