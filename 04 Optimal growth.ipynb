{
 "cells": [
  {
   "cell_type": "code",
   "execution_count": 1,
   "metadata": {
    "collapsed": true
   },
   "outputs": [],
   "source": [
    "%matplotlib inline\n",
    "import numpy as np\n",
    "import matplotlib.pyplot as plt"
   ]
  },
  {
   "cell_type": "markdown",
   "metadata": {},
   "source": [
    "# Computation of the optimal growth model\n",
    "\n",
    "Let's consider the optimal growth model,\n",
    "\n",
    "\\begin{align}\n",
    "\t&\\max\\int_{0}^{\\infty}e^{-\\rho t}u(c(t))dt \\\\\n",
    "\t&\\text{subject to} \\\\\n",
    "\t&\\qquad\\dot{k}(t)=f(k(t))-\\delta k(t)-c(t),\\\\\n",
    "\t&\\qquad k(0):\\text{ given.} \\\\\n",
    "\\end{align}\n",
    "\n",
    "We assume that \n",
    "\n",
    "\\begin{align}\n",
    "   u(c) &= \\frac{c^{1-\\theta}}{1-\\theta}, \\quad \\theta > 0, \\\\\n",
    "   f(k) &= A k^\\alpha, \\quad 0 < \\alpha < 1, \\quad A > 0\n",
    "\\end{align}\n",
    "\n",
    "\n",
    "By using the Hamiltonian method or discretization, we have obtained the first-order dynamics of the economy\n",
    "\n",
    "\\begin{align}\n",
    "    \\dot{c} &= \\theta^{-1} c [f'(k) - \\delta - \\rho] & \\text{(EE)} \\\\\n",
    "    \\dot{k} &= f(k) - \\delta k - c. & \\text{(CA)}\n",
    "\\end{align}\n",
    "\n",
    "Let's draw the phase diagram on your computer."
   ]
  },
  {
   "cell_type": "markdown",
   "metadata": {},
   "source": [
    "## $\\dot c = 0$ locus (EE)\n",
    "\n",
    "$\\dot k = 0$ is equivalent to \n",
    "\n",
    "\\begin{align}\n",
    "   f'(k) = \\delta + \\rho\n",
    "\\end{align}\n",
    "\n",
    "Thus, the locus is a vertical line which goes through $(k^*, 0)$, where $k^*$ is the unique value that satisfies $f'(k^*) = \\delta + \\rho$. Under the assumption that $f(k) = Ak^\\alpha$, \n",
    "\n",
    "\\begin{align}\n",
    " k^* = \\left(\\frac{\\delta + \\rho}{A \\alpha}\\right)^\\frac{1}{\\alpha - 1}\n",
    "\\end{align}"
   ]
  },
  {
   "cell_type": "markdown",
   "metadata": {},
   "source": [
    "## $\\dot k = 0$ locus (CA)\n",
    "\n",
    "$\\dot k = 0$ is equivalent to \n",
    "\n",
    "\\begin{align}\n",
    "   c = f(k) - \\delta k.\n",
    "\\end{align}"
   ]
  },
  {
   "cell_type": "markdown",
   "metadata": {},
   "source": [
    "## Code for the loci"
   ]
  },
  {
   "cell_type": "code",
   "execution_count": 2,
   "metadata": {
    "collapsed": true
   },
   "outputs": [],
   "source": [
    "alpha = 0.3\n",
    "delta = 0.3\n",
    "rho = 0.1\n",
    "theta = 1\n",
    "\n",
    "A = 1\n",
    "def f(x):\n",
    "    return A * x**alpha"
   ]
  },
  {
   "cell_type": "code",
   "execution_count": 3,
   "metadata": {
    "collapsed": false
   },
   "outputs": [
    {
     "data": {
      "image/png": "[encoded data removed]",
      "text/plain": [
       "<matplotlib.figure.Figure at 0x10c3fc5c0>"
      ]
     },
     "metadata": {},
     "output_type": "display_data"
    }
   ],
   "source": [
    "kgrid = np.linspace(0.0, 7.5, 300)\n",
    "\n",
    "fig, ax = plt.subplots(1,1)\n",
    "\n",
    "# EE locus\n",
    "ax.plot(kgrid, f(kgrid) - delta * kgrid)\n",
    "ax.text(4, f(4) - delta * 4, '$\\dot k = 0$', fontsize=16)\n",
    "\n",
    "# CA locus\n",
    "kstar = ((delta + rho) / (A * alpha)) ** (1/(alpha - 1))\n",
    "ax.axvline(kstar)\n",
    "ax.text(kstar*1.01, 0.1, '$\\dot c = 0$', fontsize=16)\n",
    "\n",
    "# axis labels\n",
    "ax.set_xlabel('$k$', fontsize=16)\n",
    "ax.set_ylabel('$c$', fontsize=16)\n",
    "ax.set_ylim([0.0, 1.8 * np.max(f(kgrid) - delta*kgrid)])\n",
    "\n",
    "plt.show()"
   ]
  },
  {
   "cell_type": "markdown",
   "metadata": {},
   "source": [
    "What we want to do is to draw paths on this phase diagram. It is convenient to have a function that returns this kind of figure. "
   ]
  },
  {
   "cell_type": "code",
   "execution_count": 4,
   "metadata": {
    "collapsed": false
   },
   "outputs": [],
   "source": [
    "def phase_diagram(kmax, gridnum, yamp=1.8, colors=['black', 'black'], labels_on=False):\n",
    "\n",
    "    kgrid = np.linspace(0.0, kmax, gridnum)\n",
    "\n",
    "    fig, ax = plt.subplots(1,1)\n",
    "\n",
    "    # EE locus\n",
    "    ax.plot(kgrid, f(kgrid) - delta * kgrid, color=colors[0])\n",
    "    if labels_on:\n",
    "        ax.text(4, f(4) - delta * 4, '$\\dot k = 0$', fontsize=16)\n",
    "    \n",
    "\n",
    "    # CA locus\n",
    "    kstar = ((delta + rho) / (A * alpha)) ** (1/(alpha - 1))\n",
    "    ax.axvline(kstar, color=colors[1])\n",
    "    if labels_on:\n",
    "        ax.text(kstar*1.01, 0.1, '$\\dot c = 0$', fontsize=16)\n",
    "\n",
    "    # axis labels\n",
    "    ax.set_xlabel('$k$', fontsize=16)\n",
    "    ax.set_ylabel('$c$', fontsize=16)\n",
    "        \n",
    "    ax.set_ylim([0.0, yamp * np.max(f(kgrid) - delta*kgrid)])\n",
    "\n",
    "    return fig, ax"
   ]
  },
  {
   "cell_type": "markdown",
   "metadata": {},
   "source": [
    "You can draw the loci by calling the function as in the following."
   ]
  },
  {
   "cell_type": "code",
   "execution_count": 5,
   "metadata": {
    "collapsed": false
   },
   "outputs": [
    {
     "data": {
      "image/png": "[encoded data removed]",
      "text/plain": [
       "<matplotlib.figure.Figure at 0x10ee0d978>"
      ]
     },
     "metadata": {},
     "output_type": "display_data"
    }
   ],
   "source": [
    "fig, ax = phase_diagram(7.5, 300)"
   ]
  },
  {
   "cell_type": "markdown",
   "metadata": {},
   "source": [
    "## The dynamics"
   ]
  },
  {
   "cell_type": "markdown",
   "metadata": {},
   "source": [
    "Discretize \n",
    "\n",
    "\\begin{align}\n",
    "    \\dot{c} &= \\theta^{-1} c [f'(k) - \\delta - \\rho] & \\text{(EE)} \\\\\n",
    "    \\dot{k} &= f(k) - \\delta k - c. & \\text{(CA)}\n",
    "\\end{align}\n",
    "\n",
    "to get the discretized dynamic equations:\n",
    "\n",
    "\\begin{align}\n",
    "    c(t+\\Delta t) &= c(t)\\{1 + \\theta^{-1} [f'(k(t)) - \\delta - \\rho] \\Delta t\\}& \\text{(D-EE)} \\\\\n",
    "    k(t+\\Delta t) &= k(t) + \\{f(k(t)) - \\delta k(t) - c(t)\\} \\Delta t. & \\text{(D-CA)}\n",
    "\\end{align}"
   ]
  },
  {
   "cell_type": "code",
   "execution_count": 6,
   "metadata": {
    "collapsed": false
   },
   "outputs": [
    {
     "data": {
      "text/plain": [
       "[<matplotlib.lines.Line2D at 0x10eecf550>]"
      ]
     },
     "execution_count": 6,
     "metadata": {},
     "output_type": "execute_result"
    },
    {
     "data": {
      "image/png": "[encoded data removed]",
      "text/plain": [
       "<matplotlib.figure.Figure at 0x10f30d940>"
      ]
     },
     "metadata": {},
     "output_type": "display_data"
    }
   ],
   "source": [
    "dt = 0.001\n",
    "\n",
    "def fdv(k):\n",
    "    \"\"\"derivative of f\"\"\"\n",
    "    return A * alpha * k ** (alpha - 1)\n",
    "\n",
    "def update(k, c):\n",
    "    cnew = c * (1 + (fdv(k) - delta - rho) * dt / theta)  # D-EE\n",
    "    knew = k + (f(k) - delta * k - c) * dt\n",
    "    return knew, cnew\n",
    "\n",
    "\n",
    "k_initial, c_guess = 0.4, 0.2\n",
    "\n",
    "# Find a first-order path from the initial condition k0 and guess of c0\n",
    "k0, c0 = k_initial, c_guess\n",
    "\n",
    "k, c = [k0], [c0]\n",
    "\n",
    "for i in range(10000):\n",
    "    knew, cnew = update(k[-1], c[-1])\n",
    "    k.append(knew)\n",
    "    c.append(cnew)\n",
    "    \n",
    "kgrid = np.linspace(0.0, 7.5, 300)\n",
    "\n",
    "fig, ax = phase_diagram(7.5, 300)\n",
    "ax.plot(k, c)"
   ]
  },
  {
   "cell_type": "markdown",
   "metadata": {},
   "source": [
    "The blue curve shows the dynamic path of the system of differential equation. The solution moves from left to right in this case. This path doesn't seem to satisfy the transversality condition and so it's not the optimal path.\n",
    "\n",
    "\n",
    "What we do next is to find $c(0)$ that converges to the steady state. I will show you how to do this by \"brute force\".\n",
    "\n",
    "Make many guesses about $c(0)$ and find the solution. We need to make a function to create a path that starts from $(k(0), c(0))$ and verify whether or not it's approaching to the steady state."
   ]
  },
  {
   "cell_type": "code",
   "execution_count": 7,
   "metadata": {
    "collapsed": true
   },
   "outputs": [],
   "source": [
    "def compute_path(k0, c_guess, steps, ax=None, output=True):\n",
    "    \"\"\"compute a path starting from (k0, c_guess) that satisfies EE and CA\"\"\"\n",
    "    \n",
    "    k, c = [k0], [c_guess]\n",
    "    for i in range(steps):\n",
    "        knew, cnew = update(k[-1], c[-1])\n",
    "        \n",
    "        # stop if the new values violate nonnegativity constraints\n",
    "        if knew < 0:\n",
    "            break\n",
    "        if cnew < 0:\n",
    "            break\n",
    "        \n",
    "        k.append(knew)\n",
    "        c.append(cnew)\n",
    "        \n",
    "    # plot the path if ax is given\n",
    "    if ax is not None:\n",
    "        ax.plot(k, c)\n",
    "    \n",
    "    # You may want to suppress the output when you give ax.\n",
    "    if output:\n",
    "        return k, c"
   ]
  },
  {
   "cell_type": "markdown",
   "metadata": {},
   "source": [
    "Typical usage: "
   ]
  },
  {
   "cell_type": "code",
   "execution_count": 8,
   "metadata": {
    "collapsed": false
   },
   "outputs": [
    {
     "data": {
      "image/png": "[encoded data removed]",
      "text/plain": [
       "<matplotlib.figure.Figure at 0x10eeefac8>"
      ]
     },
     "metadata": {},
     "output_type": "display_data"
    }
   ],
   "source": [
    "k_init = 0.4\n",
    "steps = 30000\n",
    "\n",
    "fig, ax = phase_diagram(7.5, 300)\n",
    "\n",
    "compute_path(k_init, 0.2, steps, ax, output=False)\n",
    "compute_path(k_init, 0.4, steps, ax, output=False)\n",
    "compute_path(k_init, 0.5, steps, ax, output=False)\n",
    "compute_path(k_init, 0.58, steps, ax, output=False)"
   ]
  },
  {
   "cell_type": "markdown",
   "metadata": {},
   "source": [
    "Let's find the optimal path. The following code makes a plot that relates a guess of $c(0)$ to the final $c(t)$ and $k(t)$ for large $t$. "
   ]
  },
  {
   "cell_type": "code",
   "execution_count": 9,
   "metadata": {
    "collapsed": false
   },
   "outputs": [
    {
     "data": {
      "text/plain": [
       "<matplotlib.legend.Legend at 0x10f363208>"
      ]
     },
     "execution_count": 9,
     "metadata": {},
     "output_type": "execute_result"
    },
    {
     "data": {
      "image/png": "[encoded data removed]",
      "text/plain": [
       "<matplotlib.figure.Figure at 0x10ee73940>"
      ]
     },
     "metadata": {},
     "output_type": "display_data"
    }
   ],
   "source": [
    "k_init = 0.4\n",
    "steps = 20000\n",
    "\n",
    "# set of guess about c(0)\n",
    "c_guess = np.linspace(0.45, 0.8, 500)\n",
    "\n",
    "k_final = []\n",
    "c_final = []\n",
    "for c0 in c_guess:\n",
    "    k, c = compute_path(k_init, c0, steps, output=True)\n",
    "    \n",
    "    # Final values\n",
    "    k_final.append(k[-1])\n",
    "    c_final.append(c[-1])\n",
    "    \n",
    "plt.plot(c_guess, k_final, label='lim k')\n",
    "plt.plot(c_guess, c_final, label='lim c')\n",
    "plt.legend()"
   ]
  },
  {
   "cell_type": "markdown",
   "metadata": {},
   "source": [
    "As you can clearly see, there is a critical value around 0.5. To know the exact value of the threshold, execute the following code."
   ]
  },
  {
   "cell_type": "code",
   "execution_count": 10,
   "metadata": {
    "collapsed": false
   },
   "outputs": [
    {
     "data": {
      "text/plain": [
       "0.51593186372745492"
      ]
     },
     "execution_count": 10,
     "metadata": {},
     "output_type": "execute_result"
    }
   ],
   "source": [
    "cdiff = [c1 - c0 for c0, c1 in zip(c_final[:-1], c_final[1:])]\n",
    "c_optimal = c_guess[cdiff.index(max(cdiff))]\n",
    "c_optimal"
   ]
  },
  {
   "cell_type": "code",
   "execution_count": 11,
   "metadata": {
    "collapsed": false
   },
   "outputs": [
    {
     "data": {
      "image/png": "[encoded data removed]",
      "text/plain": [
       "<matplotlib.figure.Figure at 0x10e7d7198>"
      ]
     },
     "metadata": {},
     "output_type": "display_data"
    }
   ],
   "source": [
    "fig, ax = phase_diagram(7.5, 300)\n",
    "compute_path(k_init, c_optimal, steps=5000, ax=ax, output=False)"
   ]
  },
  {
   "cell_type": "markdown",
   "metadata": {},
   "source": [
    "It still doesn't converge, which you can see if you make steps bigger than 5000. As a matter of fact this is the limitation of the method presented here. You can practically never use it because of its instability.\n",
    "\n",
    "We usually use the dynamic programing approach by which you can find the optimal consumption function. See the note by Benjamin Moll http://www.princeton.edu/~moll/HACTproject/HACT_Additional_Codes.pdf"
   ]
  }
 ],
 "metadata": {
  "kernelspec": {
   "display_name": "Python 3",
   "language": "python",
   "name": "python3"
  },
  "language_info": {
   "codemirror_mode": {
    "name": "ipython",
    "version": 3
   },
   "file_extension": ".py",
   "mimetype": "text/x-python",
   "name": "python",
   "nbconvert_exporter": "python",
   "pygments_lexer": "ipython3",
   "version": "3.5.1"
  }
 },
 "nbformat": 4,
 "nbformat_minor": 0
}
