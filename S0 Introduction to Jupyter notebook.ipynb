{
 "cells": [
  {
   "cell_type": "markdown",
   "metadata": {},
   "source": [
    "# Introduction to Jupyter Notebook\n",
    "\n",
    "Welcome to Macroeconomics. Along with the theory lectures, you will be guided through the process of making simulation codes in the Python programing language. This note is intended to make sure that all students can use the notebook environment that I will provide. \n",
    "\n",
    "This notebook contains several easy problems below. Follow the instructions in the problems and write solution codes if necessary, download the edited notebook to your own computer and <span style=\"color:red\">**submit it to me by email or via BEEF**</span>. \n",
    "\n",
    "\n",
    "If you don't know how to complete the job, please do not hesitate to contact me by an email.\n",
    "\n",
    "\n",
    "## Basic features\n",
    "\n",
    "Jupyter notebook is a web-browser based application, in which you can write both text and codes. You can insert images too. Although Jupyter notebook can run any programing languages (if you install the corresponding kernel), we will stick to the Python programing language. \n",
    "\n",
    "\n",
    "For a short introduction to Python programing language and the reason why we have to learn programing, refer to [01 Basic Calculus](./01 Basic Calculus.ipynb).\n",
    "\n",
    "In a Jupyter notebok you can write code in a cell, which look like the picture below:\n",
    "\n",
    "\n",
    "![cell](./assets/img/cell.png)\n",
    "\n",
    "Note that the code cell has “In [ ]:” on the left. Look at the tool bar above. If a code cell is active (a cursor is on it), the pull down list shows that “code\" is selected as in the below figure.\n",
    "\n",
    "\n",
    "![code](./assets/img/code.png)\n",
    "\n",
    "If you change it to “Markdown\", you can write text such as that you are reading right now. Markdown cells can contain plain text, HTML codes, pictures and mathematical expressions ($\\int f(x) dx$)  etc.\n",
    "\n",
    "Let's write a code. \n",
    "\n",
    "## Problem 1\n",
    "\n",
    "The below code is an example of variable definition and elementary calculation. Because it's not run yet, it doesn't have output. Please run it by making the cell active (by clicking) and press **SHIFT + ENTER**. If you see “Out[*]:\", you are done."
   ]
  },
  {
   "cell_type": "code",
   "execution_count": null,
   "metadata": {
    "collapsed": true
   },
   "outputs": [],
   "source": [
    "x = 100\n",
    "y = - 20\n",
    "z = 0.9\n",
    "\n",
    "(x + y) * z"
   ]
  },
  {
   "cell_type": "markdown",
   "metadata": {
    "collapsed": true
   },
   "source": [
    "## Problem 2\n",
    "\n",
    "Python variables can contain any type of values without specifying the type. When you store numbers as in `x`, `y`, `z` above, you need no special care. If you want to store a string (sequence of characters), you have to enclose it with a pair of quotation marks (either single or double, opening and closing should match).\n",
    "\n",
    "Please store your name in `name` variable. Example code is provided with my name. Please rewrite the string in \"...\" and run (again, SHIFT + ENTER)."
   ]
  },
  {
   "cell_type": "code",
   "execution_count": 3,
   "metadata": {
    "collapsed": false
   },
   "outputs": [
    {
     "data": {
      "text/plain": [
       "10"
      ]
     },
     "execution_count": 3,
     "metadata": {},
     "output_type": "execute_result"
    }
   ],
   "source": [
    "name = \"Kenji Sato\"\n",
    "len(name)"
   ]
  },
  {
   "cell_type": "markdown",
   "metadata": {},
   "source": [
    "`len()` function returns the length of strings, lists or any objects with similar construction."
   ]
  },
  {
   "cell_type": "markdown",
   "metadata": {},
   "source": [
    "## Problem 3\n",
    "\n",
    "You have to become familiar with list manipulation to be a good programer. List is a collection of any values. You can have a list of characters: (run all the following code cells)."
   ]
  },
  {
   "cell_type": "code",
   "execution_count": 4,
   "metadata": {
    "collapsed": false
   },
   "outputs": [
    {
     "data": {
      "text/plain": [
       "['K', 'e', 'n', 'j', 'i', ' ', 'S', 'a', 't', 'o']"
      ]
     },
     "execution_count": 4,
     "metadata": {},
     "output_type": "execute_result"
    }
   ],
   "source": [
    "lname = list(name)\n",
    "lname"
   ]
  },
  {
   "cell_type": "markdown",
   "metadata": {},
   "source": [
    "Or you can make a list of numbers:"
   ]
  },
  {
   "cell_type": "code",
   "execution_count": 9,
   "metadata": {
    "collapsed": false
   },
   "outputs": [
    {
     "data": {
      "text/plain": [
       "[0, 1, 2, 3, 4, 5, 6, 7, 8, 9]"
      ]
     },
     "execution_count": 9,
     "metadata": {},
     "output_type": "execute_result"
    }
   ],
   "source": [
    "numbers = list(range(len(name)))\n",
    "numbers"
   ]
  },
  {
   "cell_type": "markdown",
   "metadata": {},
   "source": [
    "Lists (or list-like structures) are particularly useful when used in a for loop. Try to understand the following code snippet. Run it with your name in the `lname` variable."
   ]
  },
  {
   "cell_type": "code",
   "execution_count": 8,
   "metadata": {
    "collapsed": false
   },
   "outputs": [
    {
     "data": {
      "text/plain": [
       "7"
      ]
     },
     "execution_count": 8,
     "metadata": {},
     "output_type": "execute_result"
    }
   ],
   "source": [
    "lower_count = 0\n",
    "for c in lname:\n",
    "    if c in 'abcdefghijklmnopqrstuvwxyz':\n",
    "        lower_count = lower_count + 1\n",
    "lower_count"
   ]
  },
  {
   "cell_type": "markdown",
   "metadata": {},
   "source": [
    "## Problem 4\n",
    "\n",
    "Consider again problem [2] in [16MA2B]: Assume that a bank offers an annual interest rate of 6% compounded monthly and that you make a deposit of one thousand dollars ($1,000) at the bank today. How much do you expect to have in the bank account in one year from now?\n",
    "\n",
    "The following code calculates the bank balance in one year from now. "
   ]
  },
  {
   "cell_type": "code",
   "execution_count": 10,
   "metadata": {
    "collapsed": false
   },
   "outputs": [
    {
     "data": {
      "text/plain": [
       "1061.6778118644984"
      ]
     },
     "execution_count": 10,
     "metadata": {},
     "output_type": "execute_result"
    }
   ],
   "source": [
    "ar = 0.06  # annual interest rate\n",
    "num = 12   # number of compounding\n",
    "\n",
    "mr = ar / num  # monthly interest rate\n",
    "\n",
    "initial_deposit = 1000\n",
    "\n",
    "initial_deposit * (1 + mr)**num"
   ]
  },
  {
   "cell_type": "markdown",
   "metadata": {},
   "source": [
    "The problem: Consider a **daily compounding** (`num =365`). How much do you expect to have in the bank account in **10 year** from now? Write the code in the cell below and run."
   ]
  },
  {
   "cell_type": "code",
   "execution_count": null,
   "metadata": {
    "collapsed": true
   },
   "outputs": [],
   "source": [
    "## Write the code in this cell.\n",
    "\n",
    "\n",
    "\n",
    "\n"
   ]
  },
  {
   "cell_type": "markdown",
   "metadata": {},
   "source": [
    "## Problem 5\n",
    "\n",
    "Download the notebook: File -> Download as -> IPython Notebook (.ipynb), see the picture below.\n",
    "\n",
    "\n",
    "<img src=\"./assets/img/download.png\" style=\"width: 300px;\">\n",
    "\n",
    "And send it to the instructor. Now you are done!!"
   ]
  }
 ],
 "metadata": {
  "kernelspec": {
   "display_name": "Python 3",
   "language": "python",
   "name": "python3"
  },
  "language_info": {
   "codemirror_mode": {
    "name": "ipython",
    "version": 3
   },
   "file_extension": ".py",
   "mimetype": "text/x-python",
   "name": "python",
   "nbconvert_exporter": "python",
   "pygments_lexer": "ipython3",
   "version": "3.5.1"
  }
 },
 "nbformat": 4,
 "nbformat_minor": 0
}
