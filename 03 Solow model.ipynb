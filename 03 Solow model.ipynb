{
 "cells": [
  {
   "cell_type": "code",
   "execution_count": 15,
   "metadata": {
    "collapsed": true
   },
   "outputs": [],
   "source": [
    "%matplotlib inline\n",
    "import matplotlib.pyplot as plt"
   ]
  },
  {
   "cell_type": "markdown",
   "metadata": {},
   "source": [
    "# Solow Model\n",
    "\n",
    "## Recap\n",
    "\n",
    "In this notebook, we perform a simulation for a continuous-time Solow model. For simplicity we assume that the production function is of the Cobb-Douglas type, i.e.\n",
    "\n",
    "\\begin{align}\n",
    "  Y(t) = K(t)^\\alpha [A(t) L(t)]^{1-\\alpha}\n",
    "\\end{align}\n",
    "\n",
    "For an explanation of Cobb-Douglas functios, see [[02 Cobb-Douglas Production Function]](/notebooks/02 Cobb-Douglas Production Function.ipynb), from which we borrow the implementation. "
   ]
  },
  {
   "cell_type": "markdown",
   "metadata": {},
   "source": [
    "Under the assumptions of the Solow model, the yield is divided into consumption and saving by an exogenously given fraction $s$, i.e.,\n",
    "\n",
    "\\begin{align}\n",
    "  S(t) &= s Y(t), \\\\\n",
    "  C(t) &= (1 - s) Y(t).\n",
    "\\end{align}\n",
    "\n",
    "Saving is identical to investment, i.e.\n",
    "\n",
    "\\begin{align}\n",
    "  I(t) = S(t)\n",
    "\\end{align}\n"
   ]
  },
  {
   "cell_type": "markdown",
   "metadata": {},
   "source": [
    "The capital accumulation equation is as follows.\n",
    "\n",
    "\\begin{align}\n",
    "  \\dot K (t) = I(t) - \\delta K(t)\n",
    "\\end{align}\n",
    "\n",
    "Discretize this equation with small increment of time $\\Delta t$ as \n",
    "\n",
    "\\begin{align}\n",
    "   K(t + \\Delta t) = K(t) + (I(t) - \\delta K(t)) \\Delta t, \n",
    "\\end{align}\n",
    "where the last term represents the net invest during $[t,t+\\Delta t]$.\n"
   ]
  },
  {
   "cell_type": "markdown",
   "metadata": {},
   "source": [
    "Similarly, we can write down the discretized growth equations for $A$ and $L$:\n",
    "\n",
    "\\begin{align}\n",
    "  A(t+\\Delta t)&=(1+g\\Delta t)A(t),\\\\\n",
    "  L(t+\\Delta t)&=(1+n\\Delta t)L(t).\n",
    "\\end{align}\n",
    "\n",
    "To simplify notation, define\n",
    "\n",
    "\\begin{align}\n",
    "  K_\\tau &= K(t + \\tau \\Delta t),\\\\\n",
    "  A_\\tau &= A(t + \\tau \\Delta t),\\\\\n",
    "  L_\\tau &= L(t + \\tau \\Delta t),\n",
    "\\end{align}\n",
    "\n",
    "where $\\tau = 0, 1, 2, \\dots$ ($\\tau$ = tau)\n",
    "\n",
    "The difference equations we compute are listed below:\n",
    "\n",
    "\\begin{align}\n",
    "  K_{\\tau+1} &= s F(K_\\tau, A_\\tau L_\\tau) \\Delta t + (1 - \\delta \\Delta t) K_\\tau, \\\\\n",
    "  A_{\\tau+1} &= (1 + g\\Delta t) A_\\tau, \\\\\n",
    "  L_{\\tau+1} &= (1 + n\\Delta t) L_\\tau\n",
    "\\end{align}"
   ]
  },
  {
   "cell_type": "markdown",
   "metadata": {},
   "source": [
    "### Blanced growth\n",
    "\n",
    "The balanced growth path is a path along which capital per unit of effective labor is constant. For the Cobb-Douglas case, it satisfies  \n",
    "\n",
    "\\begin{align}\n",
    "  \\left(\n",
    "    \\frac{K^*(t)}{A(t) L(t)}\n",
    "  \\right)^{\\alpha-1}\n",
    "   = \\frac{g + n + \\delta}{s}\n",
    "\\end{align}\n",
    "\n",
    "and thus \n",
    "\n",
    "\\begin{align}\n",
    "  K^*(t) = A(t) L(t) \\left(\\frac{g + n + \\delta}{s}\\right)^\\frac{1}{\\alpha - 1}.\n",
    "\\end{align}\n",
    "\n",
    "In order for the initial capital stock to lie on the balanced growth path, it must hold that \n",
    "\n",
    "\\begin{align}\n",
    "  K^*(0) = A(0) L(0) \\left(\\frac{g + n + \\delta}{s}\\right)^\\frac{1}{\\alpha - 1}.\n",
    "\\end{align}"
   ]
  },
  {
   "cell_type": "markdown",
   "metadata": {},
   "source": [
    "## Simulation\n",
    "\n",
    "Simulation for the Solow model is easily done.\n",
    "\n",
    "We firstly set the following parameters.\n",
    "\n",
    "- Model paramters: \n",
    "  - Exogenous parameters: $\\alpha$, $g$, $n$, $s$ and $\\delta$\n",
    "  - Initial conditions: $K_0=K(0)$, $A_0=A(0)$, $L_0=L(0)$\n",
    "- Simulation parameter: \n",
    "  - End of simulation: $T$\n",
    "  - Number of division: $N$\n",
    "  - $\\Delta t = T/N$\n",
    "  \n",
    "We don't use the instrumental variable, $k(t)$, because it is not particularly useful for a simulation. "
   ]
  },
  {
   "cell_type": "markdown",
   "metadata": {},
   "source": [
    "### Implementation"
   ]
  },
  {
   "cell_type": "code",
   "execution_count": 195,
   "metadata": {
    "collapsed": false
   },
   "outputs": [],
   "source": [
    "# Parameters\n",
    "alpha = 0.33\n",
    "g, n, delta = 0.01, 0.01, 0.15\n",
    "s = 0.3\n",
    "\n",
    "\n",
    "# Grid for the time axis\n",
    "T = 40\n",
    "N_per_year = 1000\n",
    "N = N_per_year * T\n",
    "\n",
    "t = [0.0]\n",
    "dt = 1 / N_per_year\n",
    "for i in range(N-1):\n",
    "    t.append(t[-1] + dt)\n",
    "\n",
    "def F(K, AL):\n",
    "    \"\"\"production function (cobb-douglas)\"\"\"\n",
    "    return K**alpha * (AL)**(1-alpha)\n",
    "\n",
    "def solow_update(stock_var, s):\n",
    "    \"\"\"compute the end-of-period stock variables\"\"\"\n",
    "    K, A, L = stock_var\n",
    "    K1 = s * F(K, A*L) * dt + (1 - delta * dt) * K\n",
    "    A1 = (1 + g * dt) * A\n",
    "    L1 = (1 + n * dt) * L\n",
    "    \n",
    "    return (K1, A1, L1)\n",
    "\n",
    "def balanced_growth_capital(A, L, s):\n",
    "    \"\"\"compute the balanced growth initial stock\"\"\"\n",
    "    return A*L * ((g + n + delta)/s)**(1/(alpha-1))\n",
    "\n",
    "\n",
    "# Initial conditions set arbitrarily\n",
    "A0, L0 = 1, 1\n",
    "K0 = 0.4 * balanced_growth_capital(A0, L0, s)\n",
    "K, A, L = [K0], [A0], [L0]\n",
    "\n",
    "# Stock variables\n",
    "\n",
    "for i in range(N-1):\n",
    "    stock_vars = (K[-1], A[-1], L[-1])  # K[-1] is the last entry of list K\n",
    "    K1, A1, L1 = solow_update(stock_vars, s)\n",
    "    \n",
    "    K.append(K1)   # list.append(a) appends a as the last entry of the list\n",
    "    A.append(A1)\n",
    "    L.append(L1)\n",
    "\n",
    "\n",
    "# Variables of interest\n",
    "\n",
    "Y = []   # Aggregte Income\n",
    "C = []   # Aggregate Consumption\n",
    "I = []   # Aggregate Investment\n",
    "KL = []  # Per-capita Capital\n",
    "YL = []  # Per-capita Income\n",
    "CL = []  # Per-capita Consumption\n",
    "IL = []  # Per-capita Investment\n",
    "\n",
    "for K0, A0, L0 in zip(K, A, L):   # Google how zip() works\n",
    "    KL.append(K0 / L0)\n",
    "    \n",
    "    # Income\n",
    "    Y0 = F(K0, A0*L0)\n",
    "    Y.append(Y0)\n",
    "    YL.append(Y0 / L0)\n",
    "    \n",
    "    # Consumption\n",
    "    C0 = (1 - s) * Y0\n",
    "    C.append(C0)\n",
    "    CL.append(C0/L0)\n",
    "    \n",
    "    # Investment\n",
    "    I0 = s * Y0\n",
    "    I.append(I0)\n",
    "    IL.append(I0/L0)    "
   ]
  },
  {
   "cell_type": "code",
   "execution_count": 146,
   "metadata": {
    "collapsed": false
   },
   "outputs": [
    {
     "data": {
      "text/plain": [
       "<matplotlib.text.Text at 0x128c72710>"
      ]
     },
     "execution_count": 146,
     "metadata": {},
     "output_type": "execute_result"
    },
    {
     "data": {
      "image/png": "[encoded data removed]",
      "text/plain": [
       "<matplotlib.figure.Figure at 0x12cdb1c50>"
      ]
     },
     "metadata": {},
     "output_type": "display_data"
    }
   ],
   "source": [
    "fig, ax = plt.subplots(2, 2, figsize=(10,10))\n",
    "\n",
    "ax[0,0].plot(t, Y)\n",
    "ax[0,0].set_xlabel('time')\n",
    "ax[0,0].set_ylabel('Y')\n",
    "\n",
    "ax[0,1].plot(t, YL)\n",
    "ax[0,1].set_xlabel('time')\n",
    "ax[0,1].set_ylabel('Y / L')\n",
    "\n",
    "ax[1,0].plot(t, K)\n",
    "ax[1,0].set_xlabel('time')\n",
    "ax[1,0].set_ylabel('K')\n",
    "\n",
    "ax[1,1].plot(t, KL)\n",
    "ax[1,1].set_xlabel('time')\n",
    "ax[1,1].set_ylabel('KL')\n"
   ]
  },
  {
   "cell_type": "markdown",
   "metadata": {},
   "source": [
    "In performing the simulation we set the initial capital to be 40% of the balanced growth level of capital. It is considered to be the situation in many developing countries. As you can see in the above figures, growth rates in the early stage of the economy are high and they gradually slow down to the balanced growthlevel.  "
   ]
  },
  {
   "cell_type": "markdown",
   "metadata": {},
   "source": [
    "### Policy Change\n",
    "\n",
    "Let's consider an economy on the balanced growth path, i.e."
   ]
  },
  {
   "cell_type": "code",
   "execution_count": 230,
   "metadata": {
    "collapsed": true
   },
   "outputs": [],
   "source": [
    "s0 = 0.3\n",
    "\n",
    "A0, L0 = 1, 1\n",
    "K0 = balanced_growth_capital(A0, L0, s0)"
   ]
  },
  {
   "cell_type": "markdown",
   "metadata": {},
   "source": [
    "Suppose a policy that will increase the saving rate to $s=0.4$ in 2 years after the beginning of the analysis."
   ]
  },
  {
   "cell_type": "code",
   "execution_count": 231,
   "metadata": {
    "collapsed": true
   },
   "outputs": [],
   "source": [
    "s1 = 0.35"
   ]
  },
  {
   "cell_type": "markdown",
   "metadata": {},
   "source": [
    "Let's observe the dynamics of the economy."
   ]
  },
  {
   "cell_type": "code",
   "execution_count": 232,
   "metadata": {
    "collapsed": false
   },
   "outputs": [
    {
     "data": {
      "text/plain": [
       "<matplotlib.text.Text at 0x1427460f0>"
      ]
     },
     "execution_count": 232,
     "metadata": {},
     "output_type": "execute_result"
    },
    {
     "data": {
      "image/png": "[encoded data removed]",
      "text/plain": [
       "<matplotlib.figure.Figure at 0x141763d68>"
      ]
     },
     "metadata": {},
     "output_type": "display_data"
    }
   ],
   "source": [
    "# Stock variables\n",
    "K, A, L = [K0], [A0], [L0]\n",
    "sr = [s0]\n",
    "\n",
    "for i in range(N-1):\n",
    "    stock_vars = (K[-1], A[-1], L[-1])  # K[-1] is the last entry of list K\n",
    "    \n",
    "    if i < 2 * N_per_year:  # In 2 years, the saving rate raises.\n",
    "        s = s0\n",
    "    else:\n",
    "        s = s1\n",
    "        \n",
    "    K1, A1, L1 = solow_update(stock_vars, s)\n",
    "    \n",
    "    K.append(K1)   # list.append(a) appends a as the last entry of the list\n",
    "    A.append(A1)\n",
    "    L.append(L1)\n",
    "    sr.append(s)  # save the saving rate for later usage\n",
    "\n",
    "# Variables of interest\n",
    "\n",
    "C = []   # Aggregte Consumption\n",
    "CL = []  # Per-capita Consumption\n",
    "KL = []  # Per-capita Capital\n",
    "\n",
    "CAL = [] # Consumption per unit of effective labor\n",
    "KAL = [] # Capital per unit of effective labor\n",
    "\n",
    "for K0, A0, L0, s in zip(K, A, L, sr): \n",
    "    KL.append(K0 / L0)\n",
    "    \n",
    "    # Consumption\n",
    "    C0 = (1-s) * F(K0, A0*L0)\n",
    "    C.append(C0)\n",
    "    CL.append(C0 / L0)\n",
    "    \n",
    "    CAL.append(C0 / (L0 * A0))\n",
    "    KAL.append(K0 / (L0 * A0))\n",
    "    \n",
    "    \n",
    "# Plotting\n",
    "\n",
    "fig, ax = plt.subplots(3, 2, figsize=(10,10))\n",
    "\n",
    "ax[0,0].plot(t, C)\n",
    "ax[0,0].set_xlabel('time')\n",
    "ax[0,0].set_ylabel('C')\n",
    "\n",
    "ax[0,1].plot(t, CL)\n",
    "ax[0,1].set_xlabel('time')\n",
    "ax[0,1].set_ylabel('C / L')\n",
    "\n",
    "ax[1,0].plot(t, CAL)\n",
    "ax[1,0].axhline(CAL[0], linestyle='dotted')\n",
    "ax[1,0].set_xlabel('time')\n",
    "ax[1,0].set_ylabel('c')\n",
    "\n",
    "ax[1,1].plot(t, KAL)\n",
    "ax[1,1].set_xlabel('time')\n",
    "ax[1,1].set_ylabel('k')\n",
    "\n",
    "ax[2,0].plot(t, K)\n",
    "ax[2,0].set_xlabel('time')\n",
    "ax[2,0].set_ylabel('K')\n",
    "\n",
    "ax[2,1].plot(t, KL)\n",
    "ax[2,1].set_xlabel('time')\n",
    "ax[2,1].set_ylabel('KL')\n"
   ]
  },
  {
   "cell_type": "markdown",
   "metadata": {},
   "source": [
    "### Observation\n",
    "\n",
    "For 2 years from the beginning, the economy is on the balanced growth path and we observethat $c$ and $k$ stay constant. The policy change increases the saving and thus reduces consumption temporarily. The economy experiences expansion and gradually recovers the level of consumption per unit of effective labor. The aggregate consumption and consumption per capita. \n",
    "\n",
    "It is difficult to see from these figures but the growth rate of $C/L$ for example increases only temporarily. In the Solow model, policy change has level effect but not growth effect."
   ]
  },
  {
   "cell_type": "code",
   "execution_count": null,
   "metadata": {
    "collapsed": true
   },
   "outputs": [],
   "source": []
  }
 ],
 "metadata": {
  "kernelspec": {
   "display_name": "Python 3",
   "language": "python",
   "name": "python3"
  },
  "language_info": {
   "codemirror_mode": {
    "name": "ipython",
    "version": 3
   },
   "file_extension": ".py",
   "mimetype": "text/x-python",
   "name": "python",
   "nbconvert_exporter": "python",
   "pygments_lexer": "ipython3",
   "version": "3.5.1"
  }
 },
 "nbformat": 4,
 "nbformat_minor": 0
}
